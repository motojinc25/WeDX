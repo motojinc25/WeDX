{
  "cells": [
    {
      "cell_type": "code",
      "source": [
        "!pip install tf2onnx"
      ],
      "outputs": [
        {
          "output_type": "stream",
          "name": "stdout",
          "text": "Collecting tf2onnx\n  Downloading tf2onnx-1.11.1-py3-none-any.whl (440 kB)\n\u001b[K     |████████████████████████████████| 440 kB 13.2 MB/s eta 0:00:01\n\u001b[?25hCollecting flatbuffers~=1.12\n  Downloading flatbuffers-1.12-py2.py3-none-any.whl (15 kB)\nRequirement already satisfied: numpy>=1.14.1 in /anaconda/envs/azureml_py38/lib/python3.8/site-packages (from tf2onnx) (1.22.2)\nRequirement already satisfied: six in /anaconda/envs/azureml_py38/lib/python3.8/site-packages (from tf2onnx) (1.16.0)\nCollecting onnx>=1.4.1\n  Downloading onnx-1.12.0-cp38-cp38-manylinux_2_17_x86_64.manylinux2014_x86_64.whl (13.1 MB)\n\u001b[K     |████████████████████████████████| 13.1 MB 61.1 MB/s eta 0:00:01\n\u001b[?25hRequirement already satisfied: requests in /anaconda/envs/azureml_py38/lib/python3.8/site-packages (from tf2onnx) (2.27.1)\nRequirement already satisfied: typing-extensions>=3.6.2.1 in /anaconda/envs/azureml_py38/lib/python3.8/site-packages (from onnx>=1.4.1->tf2onnx) (4.0.1)\nRequirement already satisfied: protobuf<=3.20.1,>=3.12.2 in /anaconda/envs/azureml_py38/lib/python3.8/site-packages (from onnx>=1.4.1->tf2onnx) (3.19.3)\nRequirement already satisfied: urllib3<1.27,>=1.21.1 in /anaconda/envs/azureml_py38/lib/python3.8/site-packages (from requests->tf2onnx) (1.26.7)\nRequirement already satisfied: certifi>=2017.4.17 in /anaconda/envs/azureml_py38/lib/python3.8/site-packages (from requests->tf2onnx) (2021.10.8)\nRequirement already satisfied: idna<4,>=2.5; python_version >= \"3\" in /anaconda/envs/azureml_py38/lib/python3.8/site-packages (from requests->tf2onnx) (3.3)\nRequirement already satisfied: charset-normalizer~=2.0.0; python_version >= \"3\" in /anaconda/envs/azureml_py38/lib/python3.8/site-packages (from requests->tf2onnx) (2.0.10)\nInstalling collected packages: flatbuffers, onnx, tf2onnx\n  Attempting uninstall: flatbuffers\n    Found existing installation: flatbuffers 2.0\n    Uninstalling flatbuffers-2.0:\n      Successfully uninstalled flatbuffers-2.0\nSuccessfully installed flatbuffers-1.12 onnx-1.12.0 tf2onnx-1.11.1\n"
        }
      ],
      "execution_count": 1,
      "metadata": {}
    },
    {
      "cell_type": "code",
      "source": [
        "import tensorflow as tf"
      ],
      "outputs": [],
      "execution_count": 2,
      "metadata": {
        "jupyter": {
          "source_hidden": false,
          "outputs_hidden": false
        },
        "nteract": {
          "transient": {
            "deleting": false
          }
        },
        "gather": {
          "logged": 1656428430364
        }
      }
    },
    {
      "cell_type": "code",
      "source": [
        "tf_keras_applications = [\n",
        "    ['EfficientNetB0', 224, 224, tf.keras.applications.EfficientNetB0],\n",
        "]"
      ],
      "outputs": [],
      "execution_count": 3,
      "metadata": {
        "jupyter": {
          "source_hidden": false,
          "outputs_hidden": false
        },
        "nteract": {
          "transient": {
            "deleting": false
          }
        },
        "gather": {
          "logged": 1656428566926
        }
      }
    },
    {
      "cell_type": "code",
      "source": [
        "models = []\n",
        "for tf_keras_application in tf_keras_applications:\n",
        "    model_input_w = tf_keras_application[1]\n",
        "    model_input_h = tf_keras_application[2]\n",
        "    models.append([\n",
        "        tf_keras_application[3](weights='imagenet'), \n",
        "        tf_keras_application[0]\n",
        "    ])"
      ],
      "outputs": [
        {
          "output_type": "stream",
          "name": "stdout",
          "text": "Downloading data from https://storage.googleapis.com/keras-applications/efficientnetb0.h5\n21839872/21834768 [==============================] - 0s 0us/step\b\b\b\b\b\b\b\b\b\b\b\b\b\b\b\b\b\b\b\b\b\b\b\b\b\b\b\b\b\b\b\b\b\b\b\b\b\b\b\b\b\b\b\b\b\b\b\b\b\b\b\b\b\b\b\b\n21848064/21834768 [==============================] - 0s 0us/step\n"
        }
      ],
      "execution_count": 4,
      "metadata": {
        "jupyter": {
          "source_hidden": false,
          "outputs_hidden": false
        },
        "nteract": {
          "transient": {
            "deleting": false
          }
        },
        "gather": {
          "logged": 1656428636993
        }
      }
    },
    {
      "cell_type": "code",
      "source": [
        "for model_info in models:\n",
        "    model = model_info[0]\n",
        "    model_name = model_info[1]\n",
        "    onnx_name = model_name.lower() + '.onnx'\n",
        "    tf.saved_model.save(model, model_name)\n",
        "    !python3 -m tf2onnx.convert --saved-model {model_name} --output {onnx_name}"
      ],
      "outputs": [
        {
          "output_type": "stream",
          "name": "stdout",
          "text": "INFO:tensorflow:Assets written to: EfficientNetB0/assets\n/anaconda/envs/azureml_py38/lib/python3.8/runpy.py:126: RuntimeWarning: 'tf2onnx.convert' found in sys.modules after import of package 'tf2onnx', but prior to execution of 'tf2onnx.convert'; this may result in unpredictable behaviour\n  warn(RuntimeWarning(msg))\n2022-06-28 15:06:29,202 - WARNING - '--tag' not specified for saved_model. Using --tag serve\n2022-06-28 15:06:38,416 - INFO - Signatures found in model: [serving_default].\n2022-06-28 15:06:38,416 - WARNING - '--signature_def' not specified, using first signature: serving_default\n2022-06-28 15:06:38,418 - INFO - Output names: ['predictions']\nWARNING:tensorflow:From /anaconda/envs/azureml_py38/lib/python3.8/site-packages/tf2onnx/tf_loader.py:711: extract_sub_graph (from tensorflow.python.framework.graph_util_impl) is deprecated and will be removed in a future version.\nInstructions for updating:\nUse `tf.compat.v1.graph_util.extract_sub_graph`\n2022-06-28 15:06:40,528 - WARNING - From /anaconda/envs/azureml_py38/lib/python3.8/site-packages/tf2onnx/tf_loader.py:711: extract_sub_graph (from tensorflow.python.framework.graph_util_impl) is deprecated and will be removed in a future version.\nInstructions for updating:\nUse `tf.compat.v1.graph_util.extract_sub_graph`\n2022-06-28 15:06:41,323 - INFO - Using tensorflow=2.8.0, onnx=1.12.0, tf2onnx=1.11.1/1915fb\n2022-06-28 15:06:41,323 - INFO - Using opset <onnx, 13>\n2022-06-28 15:06:42,824 - INFO - Computed 0 values for constant folding\n2022-06-28 15:06:44,270 - INFO - Optimizing ONNX model\n2022-06-28 15:06:47,744 - INFO - After optimization: BatchNormalization -42 (49->7), Cast -32 (32->0), Concat -16 (16->0), Const -381 (579->198), GlobalAveragePool +17 (0->17), Identity -64 (64->0), ReduceMean -17 (17->0), Reshape -16 (32->16), Shape -16 (16->0), Slice -16 (16->0), Squeeze +1 (16->17), Transpose -275 (276->1), Unsqueeze -64 (64->0)\n2022-06-28 15:06:48,019 - INFO - \n2022-06-28 15:06:48,019 - INFO - Successfully converted TensorFlow model EfficientNetB0 to ONNX\n2022-06-28 15:06:48,019 - INFO - Model inputs: ['input_1']\n2022-06-28 15:06:48,019 - INFO - Model outputs: ['predictions']\n2022-06-28 15:06:48,019 - INFO - ONNX model is saved at efficientnetb0.onnx\n"
        }
      ],
      "execution_count": 5,
      "metadata": {
        "jupyter": {
          "source_hidden": false,
          "outputs_hidden": false
        },
        "nteract": {
          "transient": {
            "deleting": false
          }
        },
        "gather": {
          "logged": 1656428811501
        }
      }
    },
    {
      "cell_type": "code",
      "source": [],
      "outputs": [],
      "execution_count": null,
      "metadata": {
        "jupyter": {
          "source_hidden": false,
          "outputs_hidden": false
        },
        "nteract": {
          "transient": {
            "deleting": false
          }
        }
      }
    }
  ],
  "metadata": {
    "kernelspec": {
      "name": "python38-azureml",
      "language": "python",
      "display_name": "Python 3.8 - AzureML"
    },
    "language_info": {
      "name": "python",
      "version": "3.8.1",
      "mimetype": "text/x-python",
      "codemirror_mode": {
        "name": "ipython",
        "version": 3
      },
      "pygments_lexer": "ipython3",
      "nbconvert_exporter": "python",
      "file_extension": ".py"
    },
    "kernel_info": {
      "name": "python38-azureml"
    },
    "nteract": {
      "version": "nteract-front-end@1.0.0"
    },
    "microsoft": {
      "host": {
        "AzureML": {
          "notebookHasBeenCompleted": true
        }
      }
    }
  },
  "nbformat": 4,
  "nbformat_minor": 2
}