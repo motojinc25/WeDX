{
  "cells": [
    {
      "cell_type": "code",
      "source": [
        "!pip install tf2onnx"
      ],
      "outputs": [
        {
          "output_type": "stream",
          "name": "stdout",
          "text": "Requirement already satisfied: tf2onnx in /anaconda/envs/azureml_py38/lib/python3.8/site-packages (1.11.1)\r\nRequirement already satisfied: numpy>=1.14.1 in /anaconda/envs/azureml_py38/lib/python3.8/site-packages (from tf2onnx) (1.22.2)\r\nRequirement already satisfied: six in /anaconda/envs/azureml_py38/lib/python3.8/site-packages (from tf2onnx) (1.16.0)\r\nRequirement already satisfied: onnx>=1.4.1 in /anaconda/envs/azureml_py38/lib/python3.8/site-packages (from tf2onnx) (1.12.0)\r\nRequirement already satisfied: flatbuffers~=1.12 in /anaconda/envs/azureml_py38/lib/python3.8/site-packages (from tf2onnx) (1.12)\r\nRequirement already satisfied: requests in /anaconda/envs/azureml_py38/lib/python3.8/site-packages (from tf2onnx) (2.27.1)\r\nRequirement already satisfied: typing-extensions>=3.6.2.1 in /anaconda/envs/azureml_py38/lib/python3.8/site-packages (from onnx>=1.4.1->tf2onnx) (4.0.1)\r\nRequirement already satisfied: protobuf<=3.20.1,>=3.12.2 in /anaconda/envs/azureml_py38/lib/python3.8/site-packages (from onnx>=1.4.1->tf2onnx) (3.19.3)\r\nRequirement already satisfied: urllib3<1.27,>=1.21.1 in /anaconda/envs/azureml_py38/lib/python3.8/site-packages (from requests->tf2onnx) (1.26.7)\r\nRequirement already satisfied: certifi>=2017.4.17 in /anaconda/envs/azureml_py38/lib/python3.8/site-packages (from requests->tf2onnx) (2021.10.8)\r\nRequirement already satisfied: idna<4,>=2.5; python_version >= \"3\" in /anaconda/envs/azureml_py38/lib/python3.8/site-packages (from requests->tf2onnx) (3.3)\r\nRequirement already satisfied: charset-normalizer~=2.0.0; python_version >= \"3\" in /anaconda/envs/azureml_py38/lib/python3.8/site-packages (from requests->tf2onnx) (2.0.10)\r\n"
        }
      ],
      "execution_count": 1,
      "metadata": {}
    },
    {
      "cell_type": "code",
      "source": [
        "import tensorflow as tf"
      ],
      "outputs": [],
      "execution_count": 2,
      "metadata": {
        "jupyter": {
          "source_hidden": false,
          "outputs_hidden": false
        },
        "nteract": {
          "transient": {
            "deleting": false
          }
        },
        "gather": {
          "logged": 1656430697528
        }
      }
    },
    {
      "cell_type": "code",
      "source": [
        "tf_keras_applications = [\n",
        "    ['MobileNetV3Small', 224, 224, tf.keras.applications.MobileNetV3Small],\n",
        "]"
      ],
      "outputs": [],
      "execution_count": 3,
      "metadata": {
        "jupyter": {
          "source_hidden": false,
          "outputs_hidden": false
        },
        "nteract": {
          "transient": {
            "deleting": false
          }
        },
        "gather": {
          "logged": 1656430714025
        }
      }
    },
    {
      "cell_type": "code",
      "source": [
        "models = []\n",
        "for tf_keras_application in tf_keras_applications:\n",
        "    model_input_w = tf_keras_application[1]\n",
        "    model_input_h = tf_keras_application[2]\n",
        "    models.append([\n",
        "        tf_keras_application[3](weights='imagenet'), \n",
        "        tf_keras_application[0]\n",
        "    ])"
      ],
      "outputs": [
        {
          "output_type": "stream",
          "name": "stdout",
          "text": "WARNING:tensorflow:`input_shape` is undefined or non-square, or `rows` is not 224. Weights for input shape (224, 224) will be loaded as the default.\n"
        }
      ],
      "execution_count": 4,
      "metadata": {
        "jupyter": {
          "source_hidden": false,
          "outputs_hidden": false
        },
        "nteract": {
          "transient": {
            "deleting": false
          }
        },
        "gather": {
          "logged": 1656430728824
        }
      }
    },
    {
      "cell_type": "code",
      "source": [
        "for model_info in models:\n",
        "    model = model_info[0]\n",
        "    model_name = model_info[1]\n",
        "    onnx_name = model_name.lower() + '.onnx'\n",
        "    tf.saved_model.save(model, model_name)\n",
        "    !python3 -m tf2onnx.convert --saved-model {model_name} --output {onnx_name}"
      ],
      "outputs": [
        {
          "output_type": "stream",
          "name": "stdout",
          "text": "INFO:tensorflow:Assets written to: MobileNetV3Small/assets\n/anaconda/envs/azureml_py38/lib/python3.8/runpy.py:126: RuntimeWarning: 'tf2onnx.convert' found in sys.modules after import of package 'tf2onnx', but prior to execution of 'tf2onnx.convert'; this may result in unpredictable behaviour\n  warn(RuntimeWarning(msg))\n2022-06-28 15:39:26,543 - WARNING - '--tag' not specified for saved_model. Using --tag serve\n2022-06-28 15:39:31,739 - INFO - Signatures found in model: [serving_default].\n2022-06-28 15:39:31,739 - WARNING - '--signature_def' not specified, using first signature: serving_default\n2022-06-28 15:39:31,740 - INFO - Output names: ['Predictions']\nWARNING:tensorflow:From /anaconda/envs/azureml_py38/lib/python3.8/site-packages/tf2onnx/tf_loader.py:711: extract_sub_graph (from tensorflow.python.framework.graph_util_impl) is deprecated and will be removed in a future version.\nInstructions for updating:\nUse `tf.compat.v1.graph_util.extract_sub_graph`\n2022-06-28 15:39:32,997 - WARNING - From /anaconda/envs/azureml_py38/lib/python3.8/site-packages/tf2onnx/tf_loader.py:711: extract_sub_graph (from tensorflow.python.framework.graph_util_impl) is deprecated and will be removed in a future version.\nInstructions for updating:\nUse `tf.compat.v1.graph_util.extract_sub_graph`\n2022-06-28 15:39:33,354 - INFO - Using tensorflow=2.8.0, onnx=1.12.0, tf2onnx=1.11.1/1915fb\n2022-06-28 15:39:33,354 - INFO - Using opset <onnx, 13>\n2022-06-28 15:39:34,115 - INFO - Computed 0 values for constant folding\n2022-06-28 15:39:34,885 - INFO - Optimizing ONNX model\n2022-06-28 15:39:36,765 - INFO - After optimization: BatchNormalization -29 (34->5), Cast -1 (1->0), Const -222 (354->132), GlobalAveragePool +10 (0->10), Identity -6 (6->0), ReduceMean -10 (10->0), Reshape -11 (12->1), Transpose -186 (187->1)\n2022-06-28 15:39:36,949 - INFO - \n2022-06-28 15:39:36,949 - INFO - Successfully converted TensorFlow model MobileNetV3Small to ONNX\n2022-06-28 15:39:36,949 - INFO - Model inputs: ['input_1']\n2022-06-28 15:39:36,949 - INFO - Model outputs: ['Predictions']\n2022-06-28 15:39:36,949 - INFO - ONNX model is saved at mobilenetv3small.onnx\n"
        }
      ],
      "execution_count": 5,
      "metadata": {
        "jupyter": {
          "source_hidden": false,
          "outputs_hidden": false
        },
        "nteract": {
          "transient": {
            "deleting": false
          }
        },
        "gather": {
          "logged": 1656430777736
        }
      }
    },
    {
      "cell_type": "code",
      "source": [],
      "outputs": [],
      "execution_count": null,
      "metadata": {
        "jupyter": {
          "source_hidden": false,
          "outputs_hidden": false
        },
        "nteract": {
          "transient": {
            "deleting": false
          }
        }
      }
    }
  ],
  "metadata": {
    "kernelspec": {
      "name": "python38-azureml",
      "language": "python",
      "display_name": "Python 3.8 - AzureML"
    },
    "language_info": {
      "name": "python",
      "version": "3.8.1",
      "mimetype": "text/x-python",
      "codemirror_mode": {
        "name": "ipython",
        "version": 3
      },
      "pygments_lexer": "ipython3",
      "nbconvert_exporter": "python",
      "file_extension": ".py"
    },
    "kernel_info": {
      "name": "python38-azureml"
    },
    "nteract": {
      "version": "nteract-front-end@1.0.0"
    }
  },
  "nbformat": 4,
  "nbformat_minor": 2
}