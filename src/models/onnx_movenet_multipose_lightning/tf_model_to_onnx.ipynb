{
  "cells": [
    {
      "cell_type": "code",
      "source": [
        "!pip install tf2onnx"
      ],
      "outputs": [
        {
          "output_type": "stream",
          "name": "stdout",
          "text": "Requirement already satisfied: tf2onnx in /anaconda/envs/azureml_py38/lib/python3.8/site-packages (1.11.1)\r\nRequirement already satisfied: flatbuffers~=1.12 in /anaconda/envs/azureml_py38/lib/python3.8/site-packages (from tf2onnx) (1.12)\r\nRequirement already satisfied: requests in /anaconda/envs/azureml_py38/lib/python3.8/site-packages (from tf2onnx) (2.27.1)\r\nRequirement already satisfied: onnx>=1.4.1 in /anaconda/envs/azureml_py38/lib/python3.8/site-packages (from tf2onnx) (1.12.0)\r\nRequirement already satisfied: six in /anaconda/envs/azureml_py38/lib/python3.8/site-packages (from tf2onnx) (1.16.0)\r\nRequirement already satisfied: numpy>=1.14.1 in /anaconda/envs/azureml_py38/lib/python3.8/site-packages (from tf2onnx) (1.22.2)\r\nRequirement already satisfied: idna<4,>=2.5; python_version >= \"3\" in /anaconda/envs/azureml_py38/lib/python3.8/site-packages (from requests->tf2onnx) (3.3)\r\nRequirement already satisfied: charset-normalizer~=2.0.0; python_version >= \"3\" in /anaconda/envs/azureml_py38/lib/python3.8/site-packages (from requests->tf2onnx) (2.0.10)\r\nRequirement already satisfied: urllib3<1.27,>=1.21.1 in /anaconda/envs/azureml_py38/lib/python3.8/site-packages (from requests->tf2onnx) (1.26.7)\r\nRequirement already satisfied: certifi>=2017.4.17 in /anaconda/envs/azureml_py38/lib/python3.8/site-packages (from requests->tf2onnx) (2021.10.8)\r\nRequirement already satisfied: protobuf<=3.20.1,>=3.12.2 in /anaconda/envs/azureml_py38/lib/python3.8/site-packages (from onnx>=1.4.1->tf2onnx) (3.19.3)\r\nRequirement already satisfied: typing-extensions>=3.6.2.1 in /anaconda/envs/azureml_py38/lib/python3.8/site-packages (from onnx>=1.4.1->tf2onnx) (4.0.1)\r\n"
        }
      ],
      "execution_count": 1,
      "metadata": {}
    },
    {
      "cell_type": "code",
      "source": [
        "import tensorflow as tf"
      ],
      "outputs": [],
      "execution_count": 2,
      "metadata": {
        "jupyter": {
          "source_hidden": false,
          "outputs_hidden": false
        },
        "nteract": {
          "transient": {
            "deleting": false
          }
        },
        "gather": {
          "logged": 1656430697528
        }
      }
    },
    {
      "cell_type": "code",
      "source": [
        "!wget -q -O movenet_multipose_lightning_1.tar.gz https://tfhub.dev/google/movenet/multipose/lightning/1?tf-hub-format=compressed\n"
      ],
      "outputs": [],
      "execution_count": 2,
      "metadata": {
        "jupyter": {
          "source_hidden": false,
          "outputs_hidden": false
        },
        "nteract": {
          "transient": {
            "deleting": false
          }
        },
        "gather": {
          "logged": 1656430714025
        }
      }
    },
    {
      "cell_type": "code",
      "source": [
        "!mkdir movenet_multipose_lightning_1\n",
        "!tar -zxvf movenet_multipose_lightning_1.tar.gz -C movenet_multipose_lightning_1/"
      ],
      "outputs": [
        {
          "output_type": "stream",
          "name": "stdout",
          "text": "./\n./saved_model.pb\n./variables/\n./variables/variables.index\n./variables/variables.data-00000-of-00001\n./assets/\n"
        }
      ],
      "execution_count": 4,
      "metadata": {
        "jupyter": {
          "source_hidden": false,
          "outputs_hidden": false
        },
        "nteract": {
          "transient": {
            "deleting": false
          }
        }
      }
    },
    {
      "cell_type": "code",
      "source": [
        "!python -m tf2onnx.convert --opset 11 \\\n",
        "    --saved-model movenet_multipose_lightning_1 \\\n",
        "    --output movenet_multipose_lightning_1.onnx"
      ],
      "outputs": [
        {
          "output_type": "stream",
          "name": "stdout",
          "text": "/anaconda/envs/azureml_py38/lib/python3.8/runpy.py:126: RuntimeWarning: 'tf2onnx.convert' found in sys.modules after import of package 'tf2onnx', but prior to execution of 'tf2onnx.convert'; this may result in unpredictable behaviour\n  warn(RuntimeWarning(msg))\n2022-06-29 07:01:19,443 - WARNING - '--tag' not specified for saved_model. Using --tag serve\n2022-06-29 07:01:32,337 - INFO - Signatures found in model: [serving_default].\n2022-06-29 07:01:32,337 - WARNING - '--signature_def' not specified, using first signature: serving_default\n2022-06-29 07:01:32,338 - INFO - Output names: ['output_0']\nWARNING:tensorflow:From /anaconda/envs/azureml_py38/lib/python3.8/site-packages/tf2onnx/tf_loader.py:711: extract_sub_graph (from tensorflow.python.framework.graph_util_impl) is deprecated and will be removed in a future version.\nInstructions for updating:\nUse `tf.compat.v1.graph_util.extract_sub_graph`\n2022-06-29 07:01:34,455 - WARNING - From /anaconda/envs/azureml_py38/lib/python3.8/site-packages/tf2onnx/tf_loader.py:711: extract_sub_graph (from tensorflow.python.framework.graph_util_impl) is deprecated and will be removed in a future version.\nInstructions for updating:\nUse `tf.compat.v1.graph_util.extract_sub_graph`\n2022-06-29 07:01:35,344 - INFO - Using tensorflow=2.8.0, onnx=1.12.0, tf2onnx=1.11.1/1915fb\n2022-06-29 07:01:35,344 - INFO - Using opset <onnx, 11>\n2022-06-29 07:01:36,697 - INFO - Computed 0 values for constant folding\n2022-06-29 07:01:38,102 - INFO - Optimizing ONNX model\n2022-06-29 07:01:42,664 - INFO - After optimization: Add -2 (26->24), BatchNormalization -45 (55->10), Cast -27 (72->45), Concat -1 (15->14), Const -421 (658->237), Div -2 (9->7), Gather +5 (0->5), Identity -20 (20->0), Mul -2 (29->27), Reshape -26 (48->22), Shape -4 (11->7), Slice -3 (28->25), Transpose -298 (304->6), Unsqueeze -11 (47->36)\n2022-06-29 07:01:42,952 - INFO - \n2022-06-29 07:01:42,952 - INFO - Successfully converted TensorFlow model movenet_multipose_lightning_1 to ONNX\n2022-06-29 07:01:42,953 - INFO - Model inputs: ['input']\n2022-06-29 07:01:42,953 - INFO - Model outputs: ['output_0']\n2022-06-29 07:01:42,953 - INFO - ONNX model is saved at movenet_multipose_lightning_1.onnx\n"
        }
      ],
      "execution_count": 5,
      "metadata": {
        "jupyter": {
          "source_hidden": false,
          "outputs_hidden": false
        },
        "nteract": {
          "transient": {
            "deleting": false
          }
        },
        "gather": {
          "logged": 1656486105847
        }
      }
    }
  ],
  "metadata": {
    "kernelspec": {
      "name": "python38-azureml",
      "language": "python",
      "display_name": "Python 3.8 - AzureML"
    },
    "language_info": {
      "name": "python",
      "version": "3.8.1",
      "mimetype": "text/x-python",
      "codemirror_mode": {
        "name": "ipython",
        "version": 3
      },
      "pygments_lexer": "ipython3",
      "nbconvert_exporter": "python",
      "file_extension": ".py"
    },
    "kernel_info": {
      "name": "python38-azureml"
    },
    "nteract": {
      "version": "nteract-front-end@1.0.0"
    },
    "microsoft": {
      "host": {
        "AzureML": {
          "notebookHasBeenCompleted": true
        }
      }
    }
  },
  "nbformat": 4,
  "nbformat_minor": 2
}